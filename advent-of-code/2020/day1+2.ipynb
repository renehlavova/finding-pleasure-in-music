{
 "cells": [
  {
   "cell_type": "markdown",
   "metadata": {},
   "source": [
    "# Day 1"
   ]
  },
  {
   "cell_type": "markdown",
   "metadata": {
    "hide_input": true
   },
   "source": [
    "**Task**: Find the two entries that sum to 2020; what do you get if you multiply them together?"
   ]
  },
  {
   "cell_type": "code",
   "execution_count": 60,
   "metadata": {},
   "outputs": [
    {
     "data": {
      "text/html": [
       "\n",
       "<script>\n",
       "    function code_toggle() {\n",
       "        if (code_shown){\n",
       "            $('div.input').hide('500');\n",
       "            $('#toggleButton').val('Show Code')\n",
       "        } else {\n",
       "            $('div.input').show('500');\n",
       "            $('#toggleButton').val('Hide Code')\n",
       "        }\n",
       "        code_shown = !code_shown\n",
       "    }\n",
       "    \n",
       "    $( document ).ready(function(){\n",
       "        code_shown=false;\n",
       "        $('div.input').hide()\n",
       "        $('div.output_stderr').hide();\n",
       "    });\n",
       "</script>\n",
       "<form action=\"javascript:code_toggle()\"><input type=\"submit\" id=\"toggleButton\" value=\"Show Code\"></form>\n",
       "<style>.prompt{width: 0px; min-width: 0px; visibility: collapse}</style>\n"
      ],
      "text/plain": [
       "<IPython.core.display.HTML object>"
      ]
     },
     "metadata": {},
     "output_type": "display_data"
    }
   ],
   "source": [
    "%%html\n",
    "\n",
    "<script>\n",
    "    function code_toggle() {\n",
    "        if (code_shown){\n",
    "            $('div.input').hide('500');\n",
    "            $('#toggleButton').val('Show Code')\n",
    "        } else {\n",
    "            $('div.input').show('500');\n",
    "            $('#toggleButton').val('Hide Code')\n",
    "        }\n",
    "        code_shown = !code_shown\n",
    "    }\n",
    "    \n",
    "    $( document ).ready(function(){\n",
    "        code_shown=false;\n",
    "        $('div.input').hide()\n",
    "        $('div.output_stderr').hide();\n",
    "    });\n",
    "</script>\n",
    "<form action=\"javascript:code_toggle()\"><input type=\"submit\" id=\"toggleButton\" value=\"Show Code\"></form>\n",
    "<style>.prompt{width: 0px; min-width: 0px; visibility: collapse}</style>"
   ]
  },
  {
   "cell_type": "markdown",
   "metadata": {},
   "source": [
    "## Import packages"
   ]
  },
  {
   "cell_type": "markdown",
   "metadata": {},
   "source": [
    "`itertools` will be used for combining values in a list, and `numpy` function for multiplication."
   ]
  },
  {
   "cell_type": "code",
   "execution_count": 5,
   "metadata": {},
   "outputs": [],
   "source": [
    "import itertools\n",
    "import numpy as np"
   ]
  },
  {
   "cell_type": "markdown",
   "metadata": {},
   "source": [
    "## Read the dataset"
   ]
  },
  {
   "cell_type": "markdown",
   "metadata": {},
   "source": [
    "The dataset is provided as a `.txt` file with one numeric value per row. First, I create a list of values which I use to create pairs using `itertools`. If the sum of the values is 2020, I get the result by multiplying the values using `np.prod`. "
   ]
  },
  {
   "cell_type": "code",
   "execution_count": 6,
   "metadata": {},
   "outputs": [],
   "source": [
    "## open the .txt file\n",
    "\n",
    "expense_report = open(\"day1_input.txt\", \"r\")"
   ]
  },
  {
   "cell_type": "code",
   "execution_count": 7,
   "metadata": {},
   "outputs": [],
   "source": [
    "## save the numeric values to a list as integers\n",
    "\n",
    "expense_report_list = []\n",
    "\n",
    "for x in expense_report:\n",
    "    expense_report_list.append(int(x))"
   ]
  },
  {
   "cell_type": "code",
   "execution_count": 8,
   "metadata": {},
   "outputs": [],
   "source": [
    "## find the sum of each pair of numbers and if sum = 2020, multiply\n",
    "\n",
    "target = 2020\n",
    "\n",
    "for numbers in itertools.combinations(expense_report_list,2):\n",
    "    if sum(numbers) == target:\n",
    "        two_vals = ([number for number in numbers])\n",
    "        multiplication = np.prod(two_vals)"
   ]
  },
  {
   "cell_type": "markdown",
   "metadata": {},
   "source": [
    "## Result"
   ]
  },
  {
   "cell_type": "markdown",
   "metadata": {
    "variables": {
     " multiplication ": "1018336",
     " two_vals ": "[1052, 968]"
    }
   },
   "source": [
    "The two entries that sum to 2020 are: `{{ two_vals }}`.   \n",
    "If we multiply them together, we get `{{ multiplication }}`."
   ]
  },
  {
   "cell_type": "markdown",
   "metadata": {},
   "source": [
    "# Day 2"
   ]
  },
  {
   "cell_type": "markdown",
   "metadata": {},
   "source": [
    "**Task**: In your expense report, what is the product of the three entries that sum to 2020?"
   ]
  },
  {
   "cell_type": "markdown",
   "metadata": {},
   "source": [
    "## Read the dataset"
   ]
  },
  {
   "cell_type": "markdown",
   "metadata": {},
   "source": [
    "The dataset remains the same. The function written above will work in this use case, the only change that needs to be done is redefining the number of entries to be taken by `itertools` from two to three. "
   ]
  },
  {
   "cell_type": "code",
   "execution_count": 11,
   "metadata": {},
   "outputs": [],
   "source": [
    "## find the sum of each group of three entries and if sum = 2020, multiply\n",
    "\n",
    "for numbers in itertools.combinations(expense_report_list,3):\n",
    "    if sum(numbers) == target:\n",
    "        three_vals = ([number for number in numbers])\n",
    "        multiplication_three = np.prod(three_vals)"
   ]
  },
  {
   "cell_type": "markdown",
   "metadata": {},
   "source": [
    "## Result"
   ]
  },
  {
   "cell_type": "markdown",
   "metadata": {
    "variables": {
     " multiplication_three ": "288756720",
     " three_vals ": "[846, 530, 644]"
    }
   },
   "source": [
    "The three entries that sum to 2020 are: `{{ three_vals }}`.    \n",
    "If we multiply them together, we get `{{ multiplication_three }}`."
   ]
  },
  {
   "cell_type": "markdown",
   "metadata": {},
   "source": [
    "***\n",
    "<center><span style='color:#999999;font-size:80%'>Prepared by Renata Hlavova (@rene)</span></center>\n",
    "<center><span style='color:#999999;font-size:80%'>hlavova.renata@gmail.com</span></center>"
   ]
  }
 ],
 "metadata": {
  "hide_input": false,
  "kernelspec": {
   "display_name": "Python 3",
   "language": "python",
   "name": "python3"
  },
  "language_info": {
   "codemirror_mode": {
    "name": "ipython",
    "version": 3
   },
   "file_extension": ".py",
   "mimetype": "text/x-python",
   "name": "python",
   "nbconvert_exporter": "python",
   "pygments_lexer": "ipython3",
   "version": "3.7.3"
  },
  "latex_envs": {
   "LaTeX_envs_menu_present": true,
   "autoclose": false,
   "autocomplete": true,
   "bibliofile": "biblio.bib",
   "cite_by": "apalike",
   "current_citInitial": 1,
   "eqLabelWithNumbers": true,
   "eqNumInitial": 1,
   "hotkeys": {
    "equation": "Ctrl-E",
    "itemize": "Ctrl-I"
   },
   "labels_anchors": false,
   "latex_user_defs": false,
   "report_style_numbering": false,
   "user_envs_cfg": false
  },
  "toc": {
   "base_numbering": 1,
   "nav_menu": {},
   "number_sections": true,
   "sideBar": true,
   "skip_h1_title": false,
   "title_cell": "Table of Contents",
   "title_sidebar": "Contents",
   "toc_cell": false,
   "toc_position": {},
   "toc_section_display": true,
   "toc_window_display": false
  }
 },
 "nbformat": 4,
 "nbformat_minor": 2
}
